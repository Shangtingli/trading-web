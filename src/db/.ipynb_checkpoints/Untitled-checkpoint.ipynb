{
 "cells": [
  {
   "cell_type": "code",
   "execution_count": 48,
   "metadata": {},
   "outputs": [],
   "source": [
    "import pandas as pd\n",
    "import numpy as np\n",
    "import requests,re\n",
    "from bs4 import BeautifulSoup\n",
    "import MySQLdb\n",
    "\n",
    "\n",
    "def getWebPage(url,params,alphabet):\n",
    "    return url + params + alphabet\n",
    "\n",
    "def getOnePageInfo(webpage):\n",
    "    page = requests.get(webpage)\n",
    "    soup = BeautifulSoup(page.text,'html.parser')\n",
    "    names= []\n",
    "    symbols =[]\n",
    "    select_soup1 = soup.select('.ts0')\n",
    "    select_soup2 = soup.select('.ts1')\n",
    "    for soup in select_soup1:\n",
    "        name = soup.select('td')[0].text\n",
    "        symbol = soup.select('td')[1].text\n",
    "        names.append(name)\n",
    "        symbols.append(symbol)\n",
    "    \n",
    "    for soup in select_soup2:\n",
    "        name = soup.select('td')[0].text\n",
    "        symbol = soup.select('td')[1].text\n",
    "        names.append(name)\n",
    "        symbols.append(symbol)\n",
    "\n",
    "    return names,symbols\n",
    "\n",
    "def getAllNASDAQInfo():\n",
    "    NAMES = []\n",
    "    SYMBOLS = []\n",
    "    TAGS = [chr(ord('A') + i) for i in range(26)] \n",
    "    url = 'http://www.advfn.com/nasdaq/nasdaq.asp'\n",
    "    params = '?companies='\n",
    "    for i,tag in enumerate(TAGS):\n",
    "        print(\"Getting Info at\", i,\"th page\")\n",
    "        webpage = getWebPage(url,params,tag)\n",
    "        names, symbols = getOnePageInfo(webpage)\n",
    "        NAMES += names\n",
    "        SYMBOLS += symbols\n",
    "\n",
    "    return NAMES, SYMBOLS"
   ]
  },
  {
   "cell_type": "code",
   "execution_count": 49,
   "metadata": {},
   "outputs": [],
   "source": [
    "n,s = getAllNASDAQInfo()"
   ]
  },
  {
   "cell_type": "code",
   "execution_count": null,
   "metadata": {},
   "outputs": [],
   "source": []
  }
 ],
 "metadata": {
  "kernelspec": {
   "display_name": "Python 3",
   "language": "python",
   "name": "python3"
  },
  "language_info": {
   "codemirror_mode": {
    "name": "ipython",
    "version": 3
   },
   "file_extension": ".py",
   "mimetype": "text/x-python",
   "name": "python",
   "nbconvert_exporter": "python",
   "pygments_lexer": "ipython3",
   "version": "3.7.1"
  }
 },
 "nbformat": 4,
 "nbformat_minor": 2
}
